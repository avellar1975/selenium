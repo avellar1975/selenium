{
 "cells": [
  {
   "cell_type": "markdown",
   "metadata": {
    "colab_type": "text",
    "id": "view-in-github"
   },
   "source": [
    "<a href=\"https://colab.research.google.com/github/avellar1975/selenium/blob/main/Curso_Selenium.ipynb\" target=\"_parent\"><img src=\"https://colab.research.google.com/assets/colab-badge.svg\" alt=\"Open In Colab\"/></a>"
   ]
  },
  {
   "cell_type": "markdown",
   "metadata": {
    "id": "0wqQaON7LsQp"
   },
   "source": [
    "<h1>Curso Selenium</h1>\n"
   ]
  },
  {
   "cell_type": "markdown",
   "metadata": {
    "id": "zVF4nd-LR_eI"
   },
   "source": [
    "# Introdução"
   ]
  },
  {
   "cell_type": "markdown",
   "metadata": {
    "id": "jlZt_45HRQA7"
   },
   "source": [
    "<h2>O que é selenium?</h2>\n",
    "\n",
    "Selenium é uma biblioteca, de software livre, que te ajuda a resolver trabalhos manuais e repetitivos usando o browser.\n",
    "\n",
    "O projeto selenium nasceu em 2004 com a ideia de \"usar\" browsers como um usuário faria."
   ]
  },
  {
   "cell_type": "markdown",
   "metadata": {
    "id": "gDLYPFYnL5fY"
   },
   "source": [
    "---\n",
    "<h2>Pré-requisitos</h2>\n",
    "\n",
    "* Python (Anaconda [Link](https://www.anaconda.com/products/distribution))\n",
    "* Instalar a biblioteca selenium: ``` !pip install selenium ```\n",
    "* Webdriver\n",
    "\n",
    " * Webdriver do Edge: [link](https://developer.microsoft.com/en-us/microsoft-edge/tools/webdriver/)\n",
    "\n",
    " * Webdriver do Firefox: [link](https://github.com/mozilla/geckodriver/releases/)\n",
    "\n",
    " * Webdriver do Chrome: [link](https://chromedriver.storage.googleapis.com/index.html)\n",
    "\n",
    " * Lista de todos os webdrivers: [link](https://www.selenium.dev/documentation/webdriver/getting_started/install_drivers/)\n",
    "\n",
    "* Navegadores (Edge, Chrome, Firefox) \n",
    "\n",
    "<img src=\"https://github.com/avellar1975/selenium/raw/main/img/caravela.gif\" width=200>"
   ]
  },
  {
   "cell_type": "markdown",
   "metadata": {
    "id": "DdXnrSyFen7M"
   },
   "source": [
    "---\n",
    "<h2>Webdrivers</h2>\n",
    "\n",
    "O webdriver, nada mais é do que um arquivo que permite essa interação do Python com o navegador. No entanto navegadores diferentes vão precisar de webdrivers diferentes.\n",
    "\n",
    "Isso quer dizer que dependendo do navegador que estiver utilizando ou queira utilizar terá que baixar um webdriver diferente.\n",
    "\n",
    "Ao fazer o download do webdriver é MUITO IMPORTANTE verificar se está fazendo o download da versão correta para o seu sistema operacional, tanto para a versão dele quanto para a versão do navegador se tiver alguma.\n",
    "\n",
    "Depois de baixar o arquivo nós vamos extrair o arquivo que está dentro da pasta zipada, para a pasta onde está instalado o Python.\n",
    "\n",
    "Nós vamos colar/extrair o arquivo exatamente na pasta do Python, nesse caso é a pasta do Anaconda, que é onde temos o executável do Python o Python.exe.\n",
    "\n"
   ]
  },
  {
   "cell_type": "markdown",
   "metadata": {},
   "source": [
    "# O que é HTML?"
   ]
  },
  {
   "cell_type": "raw",
   "metadata": {},
   "source": [
    "<html>\n",
    "    <head>\n",
    "        <title>Esse é o meu título</title>\n",
    "    </head>\n",
    "    <body>\n",
    "        <p>Bem vindo a minha página</p>\n",
    "    </body>\n",
    "</html>"
   ]
  },
  {
   "cell_type": "markdown",
   "metadata": {},
   "source": [
    "<h2>Elementos HTML</h2>\n",
    "\n",
    "< tag >\n",
    "\n",
    "conteúdo da tag\n",
    "\n",
    "< /tag >\n",
    "\n",
    "--- \n",
    "\n",
    "< tag atributo = valor >\n",
    "\n",
    "---"
   ]
  },
  {
   "cell_type": "raw",
   "metadata": {},
   "source": [
    "<html lang=\"pt-br\">\n",
    "    <head>\n",
    "        <title>Esse é o meu título</title>\n",
    "    </head>\n",
    "    <body>\n",
    "        <p>Bem vindo a minha página</p>\n",
    "    </body>\n",
    "</html>"
   ]
  },
  {
   "cell_type": "markdown",
   "metadata": {},
   "source": [
    "# DOM - Document Object Model\n",
    "\n",
    "O DOM define a estrutura lógica dos documentos em forma de árvore, a qual guia o navegador na representação e manipulação dos componentes da página. Assim sendo, abaixo indicamos como a “árvore DOM” é normalmente estruturada:"
   ]
  },
  {
   "cell_type": "markdown",
   "metadata": {},
   "source": [
    "<img src='https://github.com/avellar1975/selenium/raw/main/img/dom.png'>"
   ]
  },
  {
   "cell_type": "markdown",
   "metadata": {
    "id": "1XBpuezzcLwY",
    "tags": []
   },
   "source": [
    "# Minha primeira automação"
   ]
  },
  {
   "cell_type": "code",
   "execution_count": 23,
   "metadata": {
    "id": "KoVD7g2HLvHB"
   },
   "outputs": [],
   "source": [
    "from selenium.webdriver import Firefox\n",
    "from time import sleep\n",
    "import warnings\n",
    "warnings.simplefilter(\"ignore\")"
   ]
  },
  {
   "cell_type": "code",
   "execution_count": 24,
   "metadata": {
    "colab": {
     "base_uri": "https://localhost:8080/",
     "height": 433
    },
    "id": "0BMVkqikQj3e",
    "outputId": "0be331a6-c9d5-4f40-8090-3af252cf61f8"
   },
   "outputs": [],
   "source": [
    "navegador = Firefox()\n",
    "\n",
    "site = 'https://curso-python-selenium.netlify.app/aula_03.html'\n",
    "\n",
    "navegador.get(site)\n",
    "#sleep(1)"
   ]
  },
  {
   "cell_type": "code",
   "execution_count": 25,
   "metadata": {},
   "outputs": [],
   "source": [
    "a = navegador.find_element_by_tag_name('a')\n",
    "p = navegador.find_element_by_tag_name('p')"
   ]
  },
  {
   "cell_type": "code",
   "execution_count": 26,
   "metadata": {},
   "outputs": [],
   "source": [
    "a.click() #vários cliques"
   ]
  },
  {
   "cell_type": "code",
   "execution_count": 27,
   "metadata": {},
   "outputs": [
    {
     "data": {
      "text/plain": [
       "'0'"
      ]
     },
     "execution_count": 27,
     "metadata": {},
     "output_type": "execute_result"
    }
   ],
   "source": [
    "p.text"
   ]
  },
  {
   "cell_type": "code",
   "execution_count": 28,
   "metadata": {},
   "outputs": [
    {
     "data": {
      "text/plain": [
       "'minha ancora'"
      ]
     },
     "execution_count": 28,
     "metadata": {},
     "output_type": "execute_result"
    }
   ],
   "source": [
    "a.text"
   ]
  },
  {
   "cell_type": "code",
   "execution_count": null,
   "metadata": {},
   "outputs": [],
   "source": []
  }
 ],
 "metadata": {
  "colab": {
   "authorship_tag": "ABX9TyNE6Hu60DubkEq9MI9qBlGB",
   "include_colab_link": true,
   "name": "Curso Selenium.ipynb",
   "provenance": []
  },
  "kernelspec": {
   "display_name": "Python 3 (ipykernel)",
   "language": "python",
   "name": "python3"
  },
  "language_info": {
   "codemirror_mode": {
    "name": "ipython",
    "version": 3
   },
   "file_extension": ".py",
   "mimetype": "text/x-python",
   "name": "python",
   "nbconvert_exporter": "python",
   "pygments_lexer": "ipython3",
   "version": "3.9.1"
  },
  "toc-autonumbering": false,
  "toc-showcode": false,
  "toc-showmarkdowntxt": false
 },
 "nbformat": 4,
 "nbformat_minor": 4
}
