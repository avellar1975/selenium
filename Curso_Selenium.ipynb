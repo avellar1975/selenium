{
  "nbformat": 4,
  "nbformat_minor": 0,
  "metadata": {
    "colab": {
      "name": "Curso Selenium.ipynb",
      "provenance": [],
      "authorship_tag": "ABX9TyNE6Hu60DubkEq9MI9qBlGB",
      "include_colab_link": true
    },
    "kernelspec": {
      "name": "python3",
      "display_name": "Python 3"
    },
    "language_info": {
      "name": "python"
    }
  },
  "cells": [
    {
      "cell_type": "markdown",
      "metadata": {
        "id": "view-in-github",
        "colab_type": "text"
      },
      "source": [
        "<a href=\"https://colab.research.google.com/github/avellar1975/selenium/blob/main/Curso_Selenium.ipynb\" target=\"_parent\"><img src=\"https://colab.research.google.com/assets/colab-badge.svg\" alt=\"Open In Colab\"/></a>"
      ]
    },
    {
      "cell_type": "markdown",
      "source": [
        "<h1>Curso Selenium</h1>\n"
      ],
      "metadata": {
        "id": "0wqQaON7LsQp"
      }
    },
    {
      "cell_type": "markdown",
      "source": [
        "# Introdução"
      ],
      "metadata": {
        "id": "zVF4nd-LR_eI"
      }
    },
    {
      "cell_type": "markdown",
      "source": [
        "<h2>O que é selenium?</h2>\n",
        "\n",
        "Selenium é uma biblioteca, de software livre, que te ajuda a resolver trabalhos manuais e repetitivos usando o browser.\n",
        "\n",
        "O projeto selenium nasceu em 2004 com a ideia de \"usar\" browsers como um usuário faria."
      ],
      "metadata": {
        "id": "jlZt_45HRQA7"
      }
    },
    {
      "cell_type": "markdown",
      "source": [
        "---\n",
        "<h2>Pré-requisitos</h2>\n",
        "\n",
        "* Python (Anaconda [Link](https://www.anaconda.com/products/distribution))\n",
        "* Instalar a biblioteca selenium: ``` !pip install selenium ```\n",
        "* Webdriver\n",
        " * Webdriver do Edge: [link](https://developer.microsoft.com/en-us/microsoft-edge/tools/webdriver/)\n",
        "\n",
        " * Webdriver do Firefox: [link](https://github.com/mozilla/geckodriver/releases/)\n",
        "\n",
        " * Webdriver do Chrome: [link](https://chromedriver.storage.googleapis.com/index.html)\n",
        "\n",
        " * Lista de todos os webdrivers: [link](https://www.selenium.dev/documentation/webdriver/getting_started/install_drivers/)\n",
        "\n",
        "* Navegadores (Edge, Chrome, Firefox) \n",
        "\n",
        "<img src=\"https://github.com/avellar1975/selenium/raw/main/img/caravela.gif\" width=200>"
      ],
      "metadata": {
        "id": "gDLYPFYnL5fY"
      }
    },
    {
      "cell_type": "markdown",
      "source": [
        "---\n",
        "<h2>Webdrivers</h2>\n",
        "\n",
        "O webdriver, nada mais é do que um arquivo que permite essa interação do Python com o navegador. No entanto navegadores diferentes vão precisar de webdrivers diferentes.\n",
        "\n",
        "Isso quer dizer que dependendo do navegador que estiver utilizando ou queira utilizar terá que baixar um webdriver diferente.\n",
        "\n",
        "Ao fazer o download do webdriver é MUITO IMPORTANTE verificar se está fazendo o download da versão correta para o seu sistema operacional, tanto para a versão dele quanto para a versão do navegador se tiver alguma.\n",
        "\n",
        "Depois de baixar o arquivo nós vamos extrair o arquivo que está dentro da pasta zipada, para a pasta onde está instalado o Python.\n",
        "\n",
        "Nós vamos colar/extrair o arquivo exatamente na pasta do Python, nesse caso é a pasta do Anaconda, que é onde temos o executável do Python o Python.exe.\n",
        "\n"
      ],
      "metadata": {
        "id": "DdXnrSyFen7M"
      }
    },
    {
      "cell_type": "markdown",
      "source": [
        "# Minha primeira automação"
      ],
      "metadata": {
        "id": "1XBpuezzcLwY"
      }
    },
    {
      "cell_type": "code",
      "source": [
        "from selenium.webdriver import Firefox"
      ],
      "metadata": {
        "id": "KoVD7g2HLvHB"
      },
      "execution_count": 7,
      "outputs": []
    },
    {
      "cell_type": "code",
      "source": [
        "browser = Firefox()"
      ],
      "metadata": {
        "colab": {
          "base_uri": "https://localhost:8080/",
          "height": 433
        },
        "id": "0BMVkqikQj3e",
        "outputId": "0be331a6-c9d5-4f40-8090-3af252cf61f8"
      },
      "execution_count": 10,
      "outputs": [
        {
          "output_type": "error",
          "ename": "WebDriverException",
          "evalue": "ignored",
          "traceback": [
            "\u001b[0;31m---------------------------------------------------------------------------\u001b[0m",
            "\u001b[0;31mPermissionError\u001b[0m                           Traceback (most recent call last)",
            "\u001b[0;32m/usr/local/lib/python3.7/dist-packages/selenium/webdriver/common/service.py\u001b[0m in \u001b[0;36mstart\u001b[0;34m(self)\u001b[0m\n\u001b[1;32m     75\u001b[0m                                             \u001b[0mstdin\u001b[0m\u001b[0;34m=\u001b[0m\u001b[0mPIPE\u001b[0m\u001b[0;34m,\u001b[0m\u001b[0;34m\u001b[0m\u001b[0;34m\u001b[0m\u001b[0m\n\u001b[0;32m---> 76\u001b[0;31m                                             creationflags=self.creationflags)\n\u001b[0m\u001b[1;32m     77\u001b[0m         \u001b[0;32mexcept\u001b[0m \u001b[0mTypeError\u001b[0m\u001b[0;34m:\u001b[0m\u001b[0;34m\u001b[0m\u001b[0;34m\u001b[0m\u001b[0m\n",
            "\u001b[0;32m/usr/lib/python3.7/subprocess.py\u001b[0m in \u001b[0;36m__init__\u001b[0;34m(self, args, bufsize, executable, stdin, stdout, stderr, preexec_fn, close_fds, shell, cwd, env, universal_newlines, startupinfo, creationflags, restore_signals, start_new_session, pass_fds, encoding, errors, text)\u001b[0m\n\u001b[1;32m    799\u001b[0m                                 \u001b[0merrread\u001b[0m\u001b[0;34m,\u001b[0m \u001b[0merrwrite\u001b[0m\u001b[0;34m,\u001b[0m\u001b[0;34m\u001b[0m\u001b[0;34m\u001b[0m\u001b[0m\n\u001b[0;32m--> 800\u001b[0;31m                                 restore_signals, start_new_session)\n\u001b[0m\u001b[1;32m    801\u001b[0m         \u001b[0;32mexcept\u001b[0m\u001b[0;34m:\u001b[0m\u001b[0;34m\u001b[0m\u001b[0;34m\u001b[0m\u001b[0m\n",
            "\u001b[0;32m/usr/lib/python3.7/subprocess.py\u001b[0m in \u001b[0;36m_execute_child\u001b[0;34m(self, args, executable, preexec_fn, close_fds, pass_fds, cwd, env, startupinfo, creationflags, shell, p2cread, p2cwrite, c2pread, c2pwrite, errread, errwrite, restore_signals, start_new_session)\u001b[0m\n\u001b[1;32m   1550\u001b[0m                             \u001b[0merr_msg\u001b[0m \u001b[0;34m+=\u001b[0m \u001b[0;34m': '\u001b[0m \u001b[0;34m+\u001b[0m \u001b[0mrepr\u001b[0m\u001b[0;34m(\u001b[0m\u001b[0merr_filename\u001b[0m\u001b[0;34m)\u001b[0m\u001b[0;34m\u001b[0m\u001b[0;34m\u001b[0m\u001b[0m\n\u001b[0;32m-> 1551\u001b[0;31m                     \u001b[0;32mraise\u001b[0m \u001b[0mchild_exception_type\u001b[0m\u001b[0;34m(\u001b[0m\u001b[0merrno_num\u001b[0m\u001b[0;34m,\u001b[0m \u001b[0merr_msg\u001b[0m\u001b[0;34m,\u001b[0m \u001b[0merr_filename\u001b[0m\u001b[0;34m)\u001b[0m\u001b[0;34m\u001b[0m\u001b[0;34m\u001b[0m\u001b[0m\n\u001b[0m\u001b[1;32m   1552\u001b[0m                 \u001b[0;32mraise\u001b[0m \u001b[0mchild_exception_type\u001b[0m\u001b[0;34m(\u001b[0m\u001b[0merr_msg\u001b[0m\u001b[0;34m)\u001b[0m\u001b[0;34m\u001b[0m\u001b[0;34m\u001b[0m\u001b[0m\n",
            "\u001b[0;31mPermissionError\u001b[0m: [Errno 13] Permission denied: 'geckodriver'",
            "\nDuring handling of the above exception, another exception occurred:\n",
            "\u001b[0;31mWebDriverException\u001b[0m                        Traceback (most recent call last)",
            "\u001b[0;32m<ipython-input-10-d765eeb56da7>\u001b[0m in \u001b[0;36m<module>\u001b[0;34m()\u001b[0m\n\u001b[0;32m----> 1\u001b[0;31m \u001b[0mbrowser\u001b[0m \u001b[0;34m=\u001b[0m \u001b[0mFirefox\u001b[0m\u001b[0;34m(\u001b[0m\u001b[0;34m)\u001b[0m\u001b[0;34m\u001b[0m\u001b[0;34m\u001b[0m\u001b[0m\n\u001b[0m",
            "\u001b[0;32m/usr/local/lib/python3.7/dist-packages/selenium/webdriver/firefox/webdriver.py\u001b[0m in \u001b[0;36m__init__\u001b[0;34m(self, firefox_profile, firefox_binary, capabilities, proxy, executable_path, options, service_log_path, service_args, service, desired_capabilities, log_path, keep_alive)\u001b[0m\n\u001b[1;32m    174\u001b[0m                 \u001b[0mservice_args\u001b[0m\u001b[0;34m=\u001b[0m\u001b[0mservice_args\u001b[0m\u001b[0;34m,\u001b[0m\u001b[0;34m\u001b[0m\u001b[0;34m\u001b[0m\u001b[0m\n\u001b[1;32m    175\u001b[0m                 log_path=service_log_path)\n\u001b[0;32m--> 176\u001b[0;31m         \u001b[0mself\u001b[0m\u001b[0;34m.\u001b[0m\u001b[0mservice\u001b[0m\u001b[0;34m.\u001b[0m\u001b[0mstart\u001b[0m\u001b[0;34m(\u001b[0m\u001b[0;34m)\u001b[0m\u001b[0;34m\u001b[0m\u001b[0;34m\u001b[0m\u001b[0m\n\u001b[0m\u001b[1;32m    177\u001b[0m \u001b[0;34m\u001b[0m\u001b[0m\n\u001b[1;32m    178\u001b[0m         executor = FirefoxRemoteConnection(\n",
            "\u001b[0;32m/usr/local/lib/python3.7/dist-packages/selenium/webdriver/common/service.py\u001b[0m in \u001b[0;36mstart\u001b[0;34m(self)\u001b[0m\n\u001b[1;32m     86\u001b[0m                 raise WebDriverException(\n\u001b[1;32m     87\u001b[0m                     \"'%s' executable may have wrong permissions. %s\" % (\n\u001b[0;32m---> 88\u001b[0;31m                         os.path.basename(self.path), self.start_error_message)\n\u001b[0m\u001b[1;32m     89\u001b[0m                 )\n\u001b[1;32m     90\u001b[0m             \u001b[0;32melse\u001b[0m\u001b[0;34m:\u001b[0m\u001b[0;34m\u001b[0m\u001b[0;34m\u001b[0m\u001b[0m\n",
            "\u001b[0;31mWebDriverException\u001b[0m: Message: 'geckodriver' executable may have wrong permissions. \n"
          ]
        }
      ]
    },
    {
      "cell_type": "code",
      "source": [
        ""
      ],
      "metadata": {
        "id": "XQ6ly-j7fDw7"
      },
      "execution_count": null,
      "outputs": []
    }
  ]
}